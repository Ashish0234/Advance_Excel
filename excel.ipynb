{
 "cells": [
  {
   "cell_type": "code",
   "execution_count": 2,
   "id": "76dd6df0",
   "metadata": {},
   "outputs": [],
   "source": [
    "import pandas as pd"
   ]
  },
  {
   "cell_type": "code",
   "execution_count": 3,
   "id": "bb04c860",
   "metadata": {},
   "outputs": [],
   "source": [
    "data=pd.read_excel(r'C:\\Users\\USER\\Desktop\\ashish\\employee.xlsx')"
   ]
  },
  {
   "cell_type": "code",
   "execution_count": 4,
   "id": "0c97f70d",
   "metadata": {},
   "outputs": [
    {
     "data": {
      "text/html": [
       "<div>\n",
       "<style scoped>\n",
       "    .dataframe tbody tr th:only-of-type {\n",
       "        vertical-align: middle;\n",
       "    }\n",
       "\n",
       "    .dataframe tbody tr th {\n",
       "        vertical-align: top;\n",
       "    }\n",
       "\n",
       "    .dataframe thead th {\n",
       "        text-align: right;\n",
       "    }\n",
       "</style>\n",
       "<table border=\"1\" class=\"dataframe\">\n",
       "  <thead>\n",
       "    <tr style=\"text-align: right;\">\n",
       "      <th></th>\n",
       "      <th>gender</th>\n",
       "      <th>dob</th>\n",
       "      <th>occupation</th>\n",
       "      <th>work_exp</th>\n",
       "      <th>salary</th>\n",
       "      <th>own_house</th>\n",
       "      <th>children</th>\n",
       "    </tr>\n",
       "  </thead>\n",
       "  <tbody>\n",
       "    <tr>\n",
       "      <th>0</th>\n",
       "      <td>M</td>\n",
       "      <td>1989-07-31</td>\n",
       "      <td>nurse</td>\n",
       "      <td>2.2</td>\n",
       "      <td>223700.0</td>\n",
       "      <td>True</td>\n",
       "      <td>1</td>\n",
       "    </tr>\n",
       "    <tr>\n",
       "      <th>1</th>\n",
       "      <td>NaN</td>\n",
       "      <td>1992-10-30</td>\n",
       "      <td>dentist</td>\n",
       "      <td>6.7</td>\n",
       "      <td>121100.0</td>\n",
       "      <td>True</td>\n",
       "      <td>1</td>\n",
       "    </tr>\n",
       "    <tr>\n",
       "      <th>2</th>\n",
       "      <td>F</td>\n",
       "      <td>NaT</td>\n",
       "      <td>accountant</td>\n",
       "      <td>9.0</td>\n",
       "      <td>NaN</td>\n",
       "      <td>False</td>\n",
       "      <td>2</td>\n",
       "    </tr>\n",
       "    <tr>\n",
       "      <th>3</th>\n",
       "      <td>F</td>\n",
       "      <td>1987-09-17</td>\n",
       "      <td>engineer</td>\n",
       "      <td>1.7</td>\n",
       "      <td>79900.0</td>\n",
       "      <td>False</td>\n",
       "      <td>0</td>\n",
       "    </tr>\n",
       "    <tr>\n",
       "      <th>4</th>\n",
       "      <td>M</td>\n",
       "      <td>1993-01-24</td>\n",
       "      <td>teacher</td>\n",
       "      <td>3.6</td>\n",
       "      <td>32800.0</td>\n",
       "      <td>False</td>\n",
       "      <td>2</td>\n",
       "    </tr>\n",
       "    <tr>\n",
       "      <th>5</th>\n",
       "      <td>F</td>\n",
       "      <td>NaT</td>\n",
       "      <td>developer</td>\n",
       "      <td>1.8</td>\n",
       "      <td>NaN</td>\n",
       "      <td>True</td>\n",
       "      <td>1</td>\n",
       "    </tr>\n",
       "    <tr>\n",
       "      <th>6</th>\n",
       "      <td>F</td>\n",
       "      <td>1994-09-26</td>\n",
       "      <td>nurse</td>\n",
       "      <td>5.6</td>\n",
       "      <td>272500.0</td>\n",
       "      <td>False</td>\n",
       "      <td>1</td>\n",
       "    </tr>\n",
       "    <tr>\n",
       "      <th>7</th>\n",
       "      <td>M</td>\n",
       "      <td>1991-05-07</td>\n",
       "      <td>lawyer</td>\n",
       "      <td>4.1</td>\n",
       "      <td>41600.0</td>\n",
       "      <td>False</td>\n",
       "      <td>0</td>\n",
       "    </tr>\n",
       "    <tr>\n",
       "      <th>8</th>\n",
       "      <td>M</td>\n",
       "      <td>1994-12-04</td>\n",
       "      <td>teacher</td>\n",
       "      <td>3.3</td>\n",
       "      <td>141300.0</td>\n",
       "      <td>True</td>\n",
       "      <td>0</td>\n",
       "    </tr>\n",
       "    <tr>\n",
       "      <th>9</th>\n",
       "      <td>M</td>\n",
       "      <td>1987-07-10</td>\n",
       "      <td>police</td>\n",
       "      <td>6.5</td>\n",
       "      <td>68000.0</td>\n",
       "      <td>True</td>\n",
       "      <td>1</td>\n",
       "    </tr>\n",
       "  </tbody>\n",
       "</table>\n",
       "</div>"
      ],
      "text/plain": [
       "  gender        dob  occupation  work_exp    salary  own_house  children\n",
       "0      M 1989-07-31       nurse       2.2  223700.0       True         1\n",
       "1    NaN 1992-10-30     dentist       6.7  121100.0       True         1\n",
       "2      F        NaT  accountant       9.0       NaN      False         2\n",
       "3      F 1987-09-17    engineer       1.7   79900.0      False         0\n",
       "4      M 1993-01-24     teacher       3.6   32800.0      False         2\n",
       "5      F        NaT   developer       1.8       NaN       True         1\n",
       "6      F 1994-09-26       nurse       5.6  272500.0      False         1\n",
       "7      M 1991-05-07      lawyer       4.1   41600.0      False         0\n",
       "8      M 1994-12-04     teacher       3.3  141300.0       True         0\n",
       "9      M 1987-07-10      police       6.5   68000.0       True         1"
      ]
     },
     "execution_count": 4,
     "metadata": {},
     "output_type": "execute_result"
    }
   ],
   "source": [
    "data"
   ]
  },
  {
   "cell_type": "code",
   "execution_count": null,
   "id": "71786bf3",
   "metadata": {},
   "outputs": [],
   "source": [
    "employee = workbook.sheetnames\n",
    "num_sheets = len('occupation')\n",
    "\n",
    "print(\"Number of sheets in the Excel workbook:\", num_sheets)\n"
   ]
  },
  {
   "cell_type": "code",
   "execution_count": 5,
   "id": "6e9b8383",
   "metadata": {},
   "outputs": [
    {
     "data": {
      "text/plain": [
       "2"
      ]
     },
     "execution_count": 5,
     "metadata": {},
     "output_type": "execute_result"
    }
   ],
   "source": [
    "data[data['occupation']=='nurse']['occupation'].count()"
   ]
  },
  {
   "cell_type": "code",
   "execution_count": 6,
   "id": "abb35da0",
   "metadata": {},
   "outputs": [
    {
     "data": {
      "text/html": [
       "<div>\n",
       "<style scoped>\n",
       "    .dataframe tbody tr th:only-of-type {\n",
       "        vertical-align: middle;\n",
       "    }\n",
       "\n",
       "    .dataframe tbody tr th {\n",
       "        vertical-align: top;\n",
       "    }\n",
       "\n",
       "    .dataframe thead th {\n",
       "        text-align: right;\n",
       "    }\n",
       "</style>\n",
       "<table border=\"1\" class=\"dataframe\">\n",
       "  <thead>\n",
       "    <tr style=\"text-align: right;\">\n",
       "      <th></th>\n",
       "      <th>gender</th>\n",
       "      <th>dob</th>\n",
       "      <th>occupation</th>\n",
       "      <th>work_exp</th>\n",
       "      <th>salary</th>\n",
       "      <th>own_house</th>\n",
       "      <th>children</th>\n",
       "    </tr>\n",
       "  </thead>\n",
       "  <tbody>\n",
       "    <tr>\n",
       "      <th>0</th>\n",
       "      <td>M</td>\n",
       "      <td>1989-07-31</td>\n",
       "      <td>nurse</td>\n",
       "      <td>2.2</td>\n",
       "      <td>223700.0</td>\n",
       "      <td>True</td>\n",
       "      <td>1</td>\n",
       "    </tr>\n",
       "    <tr>\n",
       "      <th>6</th>\n",
       "      <td>F</td>\n",
       "      <td>1994-09-26</td>\n",
       "      <td>nurse</td>\n",
       "      <td>5.6</td>\n",
       "      <td>272500.0</td>\n",
       "      <td>False</td>\n",
       "      <td>1</td>\n",
       "    </tr>\n",
       "  </tbody>\n",
       "</table>\n",
       "</div>"
      ],
      "text/plain": [
       "  gender        dob occupation  work_exp    salary  own_house  children\n",
       "0      M 1989-07-31      nurse       2.2  223700.0       True         1\n",
       "6      F 1994-09-26      nurse       5.6  272500.0      False         1"
      ]
     },
     "execution_count": 6,
     "metadata": {},
     "output_type": "execute_result"
    }
   ],
   "source": [
    "data[data['occupation']=='nurse']"
   ]
  },
  {
   "cell_type": "code",
   "execution_count": null,
   "id": "e1859423",
   "metadata": {},
   "outputs": [],
   "source": []
  }
 ],
 "metadata": {
  "kernelspec": {
   "display_name": "Python 3 (ipykernel)",
   "language": "python",
   "name": "python3"
  },
  "language_info": {
   "codemirror_mode": {
    "name": "ipython",
    "version": 3
   },
   "file_extension": ".py",
   "mimetype": "text/x-python",
   "name": "python",
   "nbconvert_exporter": "python",
   "pygments_lexer": "ipython3",
   "version": "3.11.5"
  }
 },
 "nbformat": 4,
 "nbformat_minor": 5
}
